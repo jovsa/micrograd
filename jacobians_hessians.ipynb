{
  "cells": [
    {
      "cell_type": "code",
      "execution_count": null,
      "metadata": {
        "id": "CO2k4e8mpVyB"
      },
      "outputs": [],
      "source": [
        "# For tips on running notebooks in Google Colab, see\n",
        "# https://pytorch.org/tutorials/beginner/colab\n",
        "%matplotlib inline"
      ]
    },
    {
      "cell_type": "markdown",
      "metadata": {
        "id": "mEAtmPYTpVyE"
      },
      "source": [
        "\n",
        "# Jacobians, Hessians, hvp, vhp, and more: composing function transforms\n",
        "\n",
        "Computing jacobians or hessians are useful in a number of non-traditional\n",
        "deep learning models. It is difficult (or annoying) to compute these quantities\n",
        "efficiently using PyTorch's regular autodiff APIs\n",
        "(``Tensor.backward()``, ``torch.autograd.grad``). PyTorch's \n",
        "[JAX-inspired](https://github.com/google/jax)\n",
        "[function transforms API](https://pytorch.org/docs/master/func.html)\n",
        "provides ways of computing various higher-order autodiff quantities\n",
        "efficiently.\n",
        "\n",
        "<div class=\"alert alert-info\"><h4>Note</h4><p>This tutorial requires PyTorch 2.0.0 or later.</p></div>\n",
        "\n",
        "## Computing the Jacobian\n"
      ]
    },
    {
      "cell_type": "code",
      "execution_count": null,
      "metadata": {
        "id": "HMA7CjvApVyG"
      },
      "outputs": [],
      "source": [
        "import torch\n",
        "import torch.nn.functional as F\n",
        "from functools import partial\n",
        "_ = torch.manual_seed(0)"
      ]
    },
    {
      "cell_type": "markdown",
      "metadata": {
        "id": "qSUwXdbApVyG"
      },
      "source": [
        "Let's start with a function that we'd like to compute the jacobian of.\n",
        "This is a simple linear function with non-linear activation.\n",
        "\n"
      ]
    },
    {
      "cell_type": "code",
      "execution_count": null,
      "metadata": {
        "id": "6fwybkX1pVyH"
      },
      "outputs": [],
      "source": [
        "def predict(weight, bias, x):\n",
        "    return F.linear(x, weight, bias).tanh()"
      ]
    },
    {
      "cell_type": "markdown",
      "metadata": {
        "id": "_aywnfVIpVyH"
      },
      "source": [
        "Let's add some dummy data: a weight, a bias, and a feature vector x.\n",
        "\n"
      ]
    },
    {
      "cell_type": "code",
      "execution_count": null,
      "metadata": {
        "id": "d6O_3plgpVyH"
      },
      "outputs": [],
      "source": [
        "D = 16\n",
        "weight = torch.randn(D, D)\n",
        "bias = torch.randn(D)\n",
        "x = torch.randn(D)  # feature vector"
      ]
    },
    {
      "cell_type": "markdown",
      "metadata": {
        "id": "nuNUngc5pVyI"
      },
      "source": [
        "Let's think of ``predict`` as a function that maps the input ``x`` from $R^D \\to R^D$.\n",
        "PyTorch Autograd computes vector-Jacobian products. In order to compute the full\n",
        "Jacobian of this $R^D \\to R^D$ function, we would have to compute it row-by-row\n",
        "by using a different unit vector each time.\n",
        "\n"
      ]
    },
    {
      "cell_type": "code",
      "execution_count": null,
      "metadata": {
        "id": "6LYMN311pVyI"
      },
      "outputs": [],
      "source": [
        "def compute_jac(xp):\n",
        "    jacobian_rows = [torch.autograd.grad(predict(weight, bias, xp), xp, vec)[0]\n",
        "                     for vec in unit_vectors]\n",
        "    return torch.stack(jacobian_rows)\n",
        "\n",
        "xp = x.clone().requires_grad_()\n",
        "unit_vectors = torch.eye(D)\n",
        "\n",
        "jacobian = compute_jac(xp)\n",
        "\n",
        "print(jacobian.shape)\n",
        "print(jacobian[0])  # show first row"
      ]
    },
    {
      "cell_type": "markdown",
      "metadata": {
        "id": "tcfU8bpppVyJ"
      },
      "source": [
        "Instead of computing the jacobian row-by-row, we can use PyTorch's\n",
        "``torch.vmap`` function transform to get rid of the for-loop and vectorize the\n",
        "computation. We can’t directly apply vmap to ``torch.autograd.grad``;\n",
        "instead, PyTorch provides a ``torch.func.vjp`` transform that composes with\n",
        "``torch.vmap``:\n",
        "\n"
      ]
    },
    {
      "cell_type": "code",
      "execution_count": null,
      "metadata": {
        "id": "e9C3GVtSpVyJ"
      },
      "outputs": [],
      "source": [
        "from torch.func import vmap, vjp\n",
        "\n",
        "_, vjp_fn = vjp(partial(predict, weight, bias), x)\n",
        "\n",
        "ft_jacobian, = vmap(vjp_fn)(unit_vectors)\n",
        "\n",
        "# let's confirm both methods compute the same result\n",
        "assert torch.allclose(ft_jacobian, jacobian)"
      ]
    },
    {
      "cell_type": "markdown",
      "metadata": {
        "id": "NBoRsNH9pVyK"
      },
      "source": [
        "In a later tutorial a composition of reverse-mode AD and vmap will give us\n",
        "per-sample-gradients.\n",
        "In this tutorial, composing reverse-mode AD and vmap gives us Jacobian\n",
        "computation!\n",
        "Various compositions of vmap and autodiff transforms can give us different\n",
        "interesting quantities.\n",
        "\n",
        "PyTorch provides ``torch.func.jacrev`` as a convenience function that performs\n",
        "the vmap-vjp composition to compute jacobians. ``jacrev`` accepts an argnums\n",
        "argument that says which argument we would like to compute Jacobians with\n",
        "respect to.\n",
        "\n"
      ]
    },
    {
      "cell_type": "code",
      "execution_count": null,
      "metadata": {
        "id": "8pNAGUoWpVyK"
      },
      "outputs": [],
      "source": [
        "from torch.func import jacrev\n",
        "\n",
        "ft_jacobian = jacrev(predict, argnums=2)(weight, bias, x)\n",
        "\n",
        "# confirm\n",
        "assert torch.allclose(ft_jacobian, jacobian)"
      ]
    },
    {
      "cell_type": "markdown",
      "metadata": {
        "id": "WQ-Jl3W6pVyL"
      },
      "source": [
        "Let's compare the performance of the two ways to compute the jacobian.\n",
        "The function transform version is much faster (and becomes even faster the\n",
        "more outputs there are).\n",
        "\n",
        "In general, we expect that vectorization via vmap can help eliminate overhead\n",
        "and give better utilization of your hardware.\n",
        "\n",
        "vmap does this magic by pushing the outer loop down into the function's\n",
        "primitive operations in order to obtain better performance.\n",
        "\n",
        "Let's make a quick function to evaluate performance and deal with\n",
        "microseconds and milliseconds measurements:\n",
        "\n"
      ]
    },
    {
      "cell_type": "code",
      "execution_count": null,
      "metadata": {
        "id": "t0jVxYhqpVyL"
      },
      "outputs": [],
      "source": [
        "def get_perf(first, first_descriptor, second, second_descriptor):\n",
        "    \"\"\"takes torch.benchmark objects and compares delta of second vs first.\"\"\"\n",
        "    faster = second.times[0]\n",
        "    slower = first.times[0]\n",
        "    gain = (slower-faster)/slower\n",
        "    if gain < 0: gain *=-1\n",
        "    final_gain = gain*100\n",
        "    print(f\" Performance delta: {final_gain:.4f} percent improvement with {second_descriptor} \")"
      ]
    },
    {
      "cell_type": "markdown",
      "metadata": {
        "id": "vJQaP_WHpVyL"
      },
      "source": [
        "And then run the performance comparison:\n",
        "\n"
      ]
    },
    {
      "cell_type": "code",
      "execution_count": null,
      "metadata": {
        "id": "kewrgXhWpVyL"
      },
      "outputs": [],
      "source": [
        "from torch.utils.benchmark import Timer\n",
        "\n",
        "without_vmap = Timer(stmt=\"compute_jac(xp)\", globals=globals())\n",
        "with_vmap = Timer(stmt=\"jacrev(predict, argnums=2)(weight, bias, x)\", globals=globals())\n",
        "\n",
        "no_vmap_timer = without_vmap.timeit(500)\n",
        "with_vmap_timer = with_vmap.timeit(500)\n",
        "\n",
        "print(no_vmap_timer)\n",
        "print(with_vmap_timer)"
      ]
    },
    {
      "cell_type": "markdown",
      "metadata": {
        "id": "Oq_mjOD5pVyM"
      },
      "source": [
        "Let's do a relative performance comparison of the above with our get_perf function:\n",
        "\n"
      ]
    },
    {
      "cell_type": "code",
      "execution_count": null,
      "metadata": {
        "id": "TUVwBij3pVyM"
      },
      "outputs": [],
      "source": [
        "get_perf(no_vmap_timer, \"without vmap\",  with_vmap_timer, \"vmap\")"
      ]
    },
    {
      "cell_type": "markdown",
      "metadata": {
        "id": "j65jj8LcpVyM"
      },
      "source": [
        "Furthemore, it’s pretty easy to flip the problem around and say we want to\n",
        "compute Jacobians of the parameters to our model (weight, bias) instead of the input\n",
        "\n"
      ]
    },
    {
      "cell_type": "code",
      "execution_count": null,
      "metadata": {
        "id": "SzCm6_IRpVyM"
      },
      "outputs": [],
      "source": [
        "# note the change in input via argnums params of 0,1 to map to weight and bias\n",
        "ft_jac_weight, ft_jac_bias = jacrev(predict, argnums=(0, 1))(weight, bias, x)"
      ]
    },
    {
      "cell_type": "markdown",
      "metadata": {
        "id": "N73FqbfxpVyN"
      },
      "source": [
        "## reverse-mode Jacobian (jacrev) vs forward-mode Jacobian (jacfwd)\n",
        "\n",
        "We offer two APIs to compute jacobians: ``jacrev`` and ``jacfwd``:\n",
        "\n",
        "- jacrev uses reverse-mode AD. As you saw above it is a composition of our\n",
        "  vjp and vmap transforms.\n",
        "- jacfwd uses forward-mode AD. It is implemented as a composition of our\n",
        "  jvp and vmap transforms.\n",
        "\n",
        "jacfwd and jacrev can be substituted for each other but they have different\n",
        "performance characteristics.\n",
        "\n",
        "As a general rule of thumb, if you’re computing the jacobian of an $R^N \\to R^M$\n",
        "function, and there are many more outputs than inputs (i.e. $M > N$) then\n",
        "jacfwd is preferred, otherwise use jacrev. There are exceptions to this rule,\n",
        "but a non-rigorous argument for this follows:\n",
        "\n",
        "In reverse-mode AD, we are computing the jacobian row-by-row, while in\n",
        "forward-mode AD (which computes Jacobian-vector products), we are computing\n",
        "it column-by-column. The Jacobian matrix has M rows and N columns, so if it\n",
        "is taller or wider one way we may prefer the method that deals with fewer\n",
        "rows or columns.\n",
        "\n"
      ]
    },
    {
      "cell_type": "code",
      "execution_count": null,
      "metadata": {
        "id": "-xWXN_nlpVyN"
      },
      "outputs": [],
      "source": [
        "from torch.func import jacrev, jacfwd"
      ]
    },
    {
      "cell_type": "markdown",
      "metadata": {
        "id": "QoGyxuF-pVyN"
      },
      "source": [
        "First, let's benchmark with more inputs than outputs:\n",
        "\n"
      ]
    },
    {
      "cell_type": "code",
      "execution_count": null,
      "metadata": {
        "id": "uimmjBodpVyN"
      },
      "outputs": [],
      "source": [
        "Din = 32\n",
        "Dout = 2048\n",
        "weight = torch.randn(Dout, Din)\n",
        "\n",
        "bias = torch.randn(Dout)\n",
        "x = torch.randn(Din)\n",
        "\n",
        "# remember the general rule about taller vs wider... here we have a taller matrix:\n",
        "print(weight.shape)\n",
        "\n",
        "using_fwd = Timer(stmt=\"jacfwd(predict, argnums=2)(weight, bias, x)\", globals=globals())\n",
        "using_bwd = Timer(stmt=\"jacrev(predict, argnums=2)(weight, bias, x)\", globals=globals())\n",
        "\n",
        "jacfwd_timing = using_fwd.timeit(500)\n",
        "jacrev_timing = using_bwd.timeit(500)\n",
        "\n",
        "print(f'jacfwd time: {jacfwd_timing}')\n",
        "print(f'jacrev time: {jacrev_timing}')"
      ]
    },
    {
      "cell_type": "markdown",
      "metadata": {
        "id": "FERHItWtpVyN"
      },
      "source": [
        "and then do a relative benchmark:\n",
        "\n"
      ]
    },
    {
      "cell_type": "code",
      "execution_count": null,
      "metadata": {
        "id": "wkNMWNZppVyO"
      },
      "outputs": [],
      "source": [
        "get_perf(jacfwd_timing, \"jacfwd\", jacrev_timing, \"jacrev\", );"
      ]
    },
    {
      "cell_type": "markdown",
      "metadata": {
        "id": "kQDkHdm3pVyO"
      },
      "source": [
        "and now the reverse - more outputs (M) than inputs (N):\n",
        "\n"
      ]
    },
    {
      "cell_type": "code",
      "execution_count": null,
      "metadata": {
        "id": "ZKV_8ro-pVyO"
      },
      "outputs": [],
      "source": [
        "Din = 2048\n",
        "Dout = 32\n",
        "weight = torch.randn(Dout, Din)\n",
        "bias = torch.randn(Dout)\n",
        "x = torch.randn(Din)\n",
        "\n",
        "using_fwd = Timer(stmt=\"jacfwd(predict, argnums=2)(weight, bias, x)\", globals=globals())\n",
        "using_bwd = Timer(stmt=\"jacrev(predict, argnums=2)(weight, bias, x)\", globals=globals())\n",
        "\n",
        "jacfwd_timing = using_fwd.timeit(500)\n",
        "jacrev_timing = using_bwd.timeit(500)\n",
        "\n",
        "print(f'jacfwd time: {jacfwd_timing}')\n",
        "print(f'jacrev time: {jacrev_timing}')"
      ]
    },
    {
      "cell_type": "markdown",
      "metadata": {
        "id": "iAKzJb3vpVyO"
      },
      "source": [
        "and a relative perf comparison:\n",
        "\n"
      ]
    },
    {
      "cell_type": "code",
      "execution_count": null,
      "metadata": {
        "id": "M4oigqazpVyO"
      },
      "outputs": [],
      "source": [
        "get_perf(jacrev_timing, \"jacrev\", jacfwd_timing, \"jacfwd\")"
      ]
    },
    {
      "cell_type": "markdown",
      "metadata": {
        "id": "QkH4Z5vUpVyO"
      },
      "source": [
        "## Hessian computation with functorch.hessian\n",
        "We offer a convenience API to compute hessians: ``torch.func.hessiani``.\n",
        "Hessians are the jacobian of the jacobian (or the partial derivative of\n",
        "the partial derivative, aka second order).\n",
        "\n",
        "This suggests that one can just compose functorch’s jacobian transforms to\n",
        "compute the Hessian.\n",
        "Indeed, under the hood, ``hessian(f)`` is simply ``jacfwd(jacrev(f))``.\n",
        "\n",
        "Note: to boost performance: depending on your model, you may also want to\n",
        "use ``jacfwd(jacfwd(f))`` or ``jacrev(jacrev(f))`` instead to compute hessians\n",
        "leveraging the rule of thumb above regarding wider vs taller matrices.\n",
        "\n"
      ]
    },
    {
      "cell_type": "code",
      "execution_count": null,
      "metadata": {
        "id": "9dMMUWpXpVyO"
      },
      "outputs": [],
      "source": [
        "from torch.func import hessian\n",
        "\n",
        "# lets reduce the size in order not to blow out colab. Hessians require\n",
        "# significant memory:\n",
        "Din = 512\n",
        "Dout = 32\n",
        "weight = torch.randn(Dout, Din)\n",
        "bias = torch.randn(Dout)\n",
        "x = torch.randn(Din)\n",
        "\n",
        "hess_api = hessian(predict, argnums=2)(weight, bias, x)\n",
        "hess_fwdfwd = jacfwd(jacfwd(predict, argnums=2), argnums=2)(weight, bias, x)\n",
        "hess_revrev = jacrev(jacrev(predict, argnums=2), argnums=2)(weight, bias, x)"
      ]
    },
    {
      "cell_type": "markdown",
      "metadata": {
        "id": "H0mwdW9YpVyP"
      },
      "source": [
        "Let's verify we have the same result regardless of using hessian api or\n",
        "using jacfwd(jacfwd())\n",
        "\n"
      ]
    },
    {
      "cell_type": "code",
      "execution_count": null,
      "metadata": {
        "id": "Gry-yZE8pVyP"
      },
      "outputs": [],
      "source": [
        "torch.allclose(hess_api, hess_fwdfwd)"
      ]
    },
    {
      "cell_type": "markdown",
      "metadata": {
        "id": "DA_fN49WpVyP"
      },
      "source": [
        "## Batch Jacobian and Batch Hessian\n",
        "In the above examples we’ve been operating with a single feature vector.\n",
        "In some cases you might want to take the Jacobian of a batch of outputs\n",
        "with respect to a batch of inputs. That is, given a batch of inputs of\n",
        "shape ``(B, N)`` and a function that goes from $R^N \\to R^M$, we would like\n",
        "a Jacobian of shape ``(B, M, N)``.\n",
        "\n",
        "The easiest way to do this is to use vmap:\n",
        "\n"
      ]
    },
    {
      "cell_type": "code",
      "execution_count": null,
      "metadata": {
        "id": "aUrKyj3ApVyP"
      },
      "outputs": [],
      "source": [
        "batch_size = 64\n",
        "Din = 31\n",
        "Dout = 33\n",
        "\n",
        "weight = torch.randn(Dout, Din)\n",
        "print(f\"weight shape = {weight.shape}\")\n",
        "\n",
        "bias = torch.randn(Dout)\n",
        "\n",
        "x = torch.randn(batch_size, Din)\n",
        "\n",
        "compute_batch_jacobian = vmap(jacrev(predict, argnums=2), in_dims=(None, None, 0))\n",
        "batch_jacobian0 = compute_batch_jacobian(weight, bias, x)"
      ]
    },
    {
      "cell_type": "markdown",
      "metadata": {
        "id": "b7IwywF5pVyP"
      },
      "source": [
        "If you have a function that goes from (B, N) -> (B, M) instead and are\n",
        "certain that each input produces an independent output, then it's also\n",
        "sometimes possible to do this without using vmap by summing the outputs\n",
        "and then computing the Jacobian of that function:\n",
        "\n"
      ]
    },
    {
      "cell_type": "code",
      "execution_count": null,
      "metadata": {
        "id": "KxbXxOjSpVyP"
      },
      "outputs": [],
      "source": [
        "def predict_with_output_summed(weight, bias, x):\n",
        "    return predict(weight, bias, x).sum(0)\n",
        "\n",
        "batch_jacobian1 = jacrev(predict_with_output_summed, argnums=2)(weight, bias, x).movedim(1, 0)\n",
        "assert torch.allclose(batch_jacobian0, batch_jacobian1)"
      ]
    },
    {
      "cell_type": "markdown",
      "metadata": {
        "id": "zaMHFREfpVyQ"
      },
      "source": [
        "If you instead have a function that goes from $R^N \\to R^M$ but inputs that\n",
        "are batched, you compose vmap with jacrev to compute batched jacobians:\n",
        "\n",
        "Finally, batch hessians can be computed similarly. It's easiest to think\n",
        "about them by using vmap to batch over hessian computation, but in some\n",
        "cases the sum trick also works.\n",
        "\n"
      ]
    },
    {
      "cell_type": "code",
      "execution_count": null,
      "metadata": {
        "id": "W5WFfHUVpVyQ"
      },
      "outputs": [],
      "source": [
        "compute_batch_hessian = vmap(hessian(predict, argnums=2), in_dims=(None, None, 0))\n",
        "\n",
        "batch_hess = compute_batch_hessian(weight, bias, x)\n",
        "batch_hess.shape"
      ]
    },
    {
      "cell_type": "markdown",
      "metadata": {
        "id": "Ncn01UTrpVyQ"
      },
      "source": [
        "## Computing Hessian-vector products\n",
        "The naive way to compute a Hessian-vector product (hvp) is to materialize\n",
        "the full Hessian and perform a dot-product with a vector. We can do better:\n",
        "it turns out we don't need to materialize the full Hessian to do this. We'll\n",
        "go through two (of many) different strategies to compute Hessian-vector products:\n",
        "- composing reverse-mode AD with reverse-mode AD\n",
        "- composing reverse-mode AD with forward-mode AD\n",
        "\n",
        "Composing reverse-mode AD with forward-mode AD (as opposed to reverse-mode\n",
        "with reverse-mode) is generally the more memory efficient way to compute a\n",
        "hvp because forward-mode AD doesn't need to construct an Autograd graph and\n",
        "save intermediates for backward:\n",
        "\n"
      ]
    },
    {
      "cell_type": "code",
      "execution_count": null,
      "metadata": {
        "id": "f2vLyAqBpVyQ"
      },
      "outputs": [],
      "source": [
        "from torch.func import jvp, grad, vjp\n",
        "\n",
        "def hvp(f, primals, tangents):\n",
        "  return jvp(grad(f), primals, tangents)[1]"
      ]
    },
    {
      "cell_type": "markdown",
      "metadata": {
        "id": "T8DA50EwpVyQ"
      },
      "source": [
        "Here's some sample usage.\n",
        "\n"
      ]
    },
    {
      "cell_type": "code",
      "execution_count": null,
      "metadata": {
        "id": "QqaSHy-WpVyR"
      },
      "outputs": [],
      "source": [
        "def f(x):\n",
        "  return x.sin().sum()\n",
        "\n",
        "x = torch.randn(2048)\n",
        "tangent = torch.randn(2048)\n",
        "\n",
        "result = hvp(f, (x,), (tangent,))"
      ]
    },
    {
      "cell_type": "markdown",
      "metadata": {
        "id": "LsbJ0b6-pVyR"
      },
      "source": [
        "If PyTorch forward-AD does not have coverage for your operations, then we can\n",
        "instead compose reverse-mode AD with reverse-mode AD:\n",
        "\n"
      ]
    },
    {
      "cell_type": "code",
      "execution_count": null,
      "metadata": {
        "id": "naimTUvepVyR"
      },
      "outputs": [],
      "source": [
        "def hvp_revrev(f, primals, tangents):\n",
        "  _, vjp_fn = vjp(grad(f), *primals)\n",
        "  return vjp_fn(*tangents)\n",
        "\n",
        "result_hvp_revrev = hvp_revrev(f, (x,), (tangent,))\n",
        "assert torch.allclose(result, result_hvp_revrev[0])"
      ]
    }
  ],
  "metadata": {
    "kernelspec": {
      "display_name": "Python 3",
      "language": "python",
      "name": "python3"
    },
    "language_info": {
      "codemirror_mode": {
        "name": "ipython",
        "version": 3
      },
      "file_extension": ".py",
      "mimetype": "text/x-python",
      "name": "python",
      "nbconvert_exporter": "python",
      "pygments_lexer": "ipython3",
      "version": "3.10.9"
    },
    "colab": {
      "provenance": []
    }
  },
  "nbformat": 4,
  "nbformat_minor": 0
}